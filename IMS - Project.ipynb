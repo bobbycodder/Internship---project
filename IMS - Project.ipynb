{
 "cells": [
  {
   "cell_type": "markdown",
   "metadata": {},
   "source": [
    "# Json file Management"
   ]
  },
  {
   "cell_type": "markdown",
   "metadata": {},
   "source": [
    "### Loading Data"
   ]
  },
  {
   "cell_type": "code",
   "execution_count": null,
   "metadata": {},
   "outputs": [],
   "source": [
    "import json"
   ]
  },
  {
   "cell_type": "code",
   "execution_count": null,
   "metadata": {},
   "outputs": [],
   "source": [
    "fd =open(\"record.json\",\"r\")\n",
    "r=fd.read()\n",
    "fd.close()"
   ]
  },
  {
   "cell_type": "code",
   "execution_count": null,
   "metadata": {},
   "outputs": [],
   "source": [
    "records = json.loads(r)"
   ]
  },
  {
   "cell_type": "code",
   "execution_count": null,
   "metadata": {},
   "outputs": [],
   "source": [
    "records"
   ]
  },
  {
   "cell_type": "markdown",
   "metadata": {},
   "source": [
    "### Adding products"
   ]
  },
  {
   "cell_type": "code",
   "execution_count": null,
   "metadata": {},
   "outputs": [],
   "source": [
    "prod_id = str(input(\"entre product id:\"))\n",
    "name = str(input(\"entre name:\"))\n",
    "pr= str(input(\"entre price :\"))\n",
    "qn = str(input(\"entre qn :\"))\n",
    "\n",
    "records[prod_id] = {'name':name,\"qn\":qn,\"pr\":pr}"
   ]
  },
  {
   "cell_type": "code",
   "execution_count": null,
   "metadata": {},
   "outputs": [],
   "source": [
    "js=json.dumps(records)"
   ]
  },
  {
   "cell_type": "code",
   "execution_count": null,
   "metadata": {},
   "outputs": [],
   "source": [
    "records"
   ]
  },
  {
   "cell_type": "code",
   "execution_count": null,
   "metadata": {},
   "outputs": [],
   "source": [
    "js=json.dumps(records)"
   ]
  },
  {
   "cell_type": "code",
   "execution_count": null,
   "metadata": {},
   "outputs": [],
   "source": [
    "js"
   ]
  },
  {
   "cell_type": "markdown",
   "metadata": {},
   "source": [
    "### Updating Added Data"
   ]
  },
  {
   "cell_type": "code",
   "execution_count": null,
   "metadata": {},
   "outputs": [],
   "source": [
    "fd = open(\"record.json\",\"w\")\n",
    "fd.write(js)\n",
    "fd.close()"
   ]
  },
  {
   "cell_type": "code",
   "execution_count": null,
   "metadata": {},
   "outputs": [],
   "source": [
    "fd = open(\"record.json\",\"r\")\n",
    "\n",
    "txt = fd.read()\n",
    "fd.close()"
   ]
  },
  {
   "cell_type": "code",
   "execution_count": null,
   "metadata": {},
   "outputs": [],
   "source": [
    "record = json.loads(txt)"
   ]
  },
  {
   "cell_type": "code",
   "execution_count": null,
   "metadata": {},
   "outputs": [],
   "source": [
    "record"
   ]
  },
  {
   "cell_type": "markdown",
   "metadata": {},
   "source": [
    "# Loading Text Data"
   ]
  },
  {
   "cell_type": "markdown",
   "metadata": {},
   "source": [
    "# Inventory Management"
   ]
  },
  {
   "cell_type": "code",
   "execution_count": 1,
   "metadata": {},
   "outputs": [],
   "source": [
    "fd = open(\"recordss.txt\",\"r\")\n",
    "\n",
    "txt = fd.read()\n",
    "fd.close()"
   ]
  },
  {
   "cell_type": "markdown",
   "metadata": {},
   "source": [
    "#### Split data"
   ]
  },
  {
   "cell_type": "code",
   "execution_count": 2,
   "metadata": {},
   "outputs": [
    {
     "data": {
      "text/plain": [
       "['1001,20W LED PRIDE PLUS COOL DAYLIGHT(020),150,180,1,Bliss,Havells,5',\n",
       " '1002,18W LED PRIDE PLUS NXT COOL DAYLIGHT(018),75,50,1,Bliss,Havells,5',\n",
       " '1003,MAXOLINE 36W T8FTL6500K[1.2m](0036),65,123,1,Bliss,Havells,5',\n",
       " '1004,20W LED EDGELIGHT SLIM NO DARK EDGES (020),655,321,1,Bliss,Havells,5',\n",
       " '1005,RAYLINE 6W LED (006),40,450,2,Bliss,Havells,5',\n",
       " '1006,LED PRIDE PLUS INVERTER BATTEN 10W (010),200,360,2,Bliss,Havells,4',\n",
       " '1007,0.5W LED ADORE (BALL LAMP),150,50,2,Bliss,Havells,4',\n",
       " '1008,TRIM LED PANEL ROUND 20W (020),23,26,3,Bliss,Havells,4',\n",
       " '1009,LED VR2 ADORE 5W B22CDL4 STARLAMP (005),133,70,3,Flair,Havells,4',\n",
       " '1010,UT LED 9W B22 CDL (009),128,45,3,Flair,Havells,5',\n",
       " '1011,LED LIGHT LUMINO DOB D/L (5W) [005],35,190,3,Flair,Havells,5',\n",
       " '1012,HAVELLS LED 9W NU-BULB+ (009),65,150,4,Flair,Havells,5',\n",
       " '1013,LED LAMPS NU-BULB+ 12W 865 B22 3STAR (012),35,180,4,Flair,Havells,5',\n",
       " '1014,ADORE LED 20W COOL DAYLIGHT (020),40,240,4,Bliss,Syska,5',\n",
       " '1015,TRIM LED PANEL SQUARE 10W 6500K (010),50,378,4,Bliss,Syska,3',\n",
       " '1016,TRIM LED PANEL SQUARE 5W 6500K (005),65,223,4,Bliss,Syska,3',\n",
       " '1017,TRIM LED PANEL ROUND 10W (010),70,65,5,Bliss,Syska,3',\n",
       " '1018,ADORE LED 3W DEEPSPOT NEE (LED SPOT LIGHT)[003],50,232,5,Bliss,Syska,3',\n",
       " '1019,LED 50W FLORID ULTRA B22 CDL BULB (050),40,323,5,Flair,Syska,3',\n",
       " '1020,TRIM 15W LED PANEL 6500K SQUARE (0150,30,262,5,Flair,Syska,3',\n",
       " '1021,LED 9W SENSOLITE BULB B22 CDL (009),25,665,6,Flair,Syska,4',\n",
       " '1022,ADORE LED 7W (R007) LED LAMP,70,55,6,Flair,Syska,4',\n",
       " '1023,JOY NEO LED 7W JB GREEN (007) LED DOWNLIGHT,50,200,6,Flair,Syska,4',\n",
       " '1024,JOY NEO LED SLIM  JB7W DUO 6K+3K (007),45,150,6,Flair,Syska,4',\n",
       " '1025,TRIM LED PANEL ROUND 5W (005),23,300,6,Flair,Bajaj,4',\n",
       " '1026,LED 40W FLORID ULTRA B22 CDL BULB (040),50,400,7,Flair,Bajaj,5',\n",
       " '1027,LED 30W FLORID ULTRA B22 CDL BULB (030),45,650,7,Flair,Bajaj,5',\n",
       " '1028,3W LED TRIM JB DOWNLIGHTER (003),65,500,7,Bliss,Bajaj,5',\n",
       " '1029,ADORE LED 9W LED LAMP (R009),220,70,7,Bliss,Bajaj,5']"
      ]
     },
     "execution_count": 2,
     "metadata": {},
     "output_type": "execute_result"
    }
   ],
   "source": [
    "products=txt.split(\"\\n\")\n",
    "products"
   ]
  },
  {
   "cell_type": "markdown",
   "metadata": {},
   "source": [
    "#### Take values and show search results"
   ]
  },
  {
   "cell_type": "code",
   "execution_count": 3,
   "metadata": {},
   "outputs": [
    {
     "name": "stdout",
     "output_type": "stream",
     "text": [
      "Enter Product id :1010\n",
      "Enter Qunatity of product :3\n",
      "--------------------------------------------------------------------\n",
      "Product id: 1010\n",
      "Name: UT LED 9W B22 CDL (009)\n",
      "Quantity available:  128\n",
      "Price:  45\n",
      "Rack No.:  3\n",
      "Category:  Flair\n",
      "Company:  Havells\n",
      "Rating(0-5) of Product:  5\n",
      "Amount to be paid: 135\n"
     ]
    }
   ],
   "source": [
    "ui_prod = str(input(\"Enter Product id :\"))\n",
    "ui_qnan = int(input(\"Enter Qunatity of product :\"))\n",
    "\n",
    "for i in products:\n",
    "    prod = i.split(\",\")\n",
    "    \n",
    "    \n",
    "    if (prod[0] == ui_prod):\n",
    "        print(\"--------------------------------------------------------------------\")\n",
    "        print(\"Product id:\",prod[0])\n",
    "        print(\"Name:\",prod[1])\n",
    "        print(\"Quantity available: \",prod[2])\n",
    "        print(\"Price: \", prod[3])\n",
    "        print(\"Rack No.: \", prod[4])\n",
    "        print(\"Category: \", prod[5])\n",
    "        print(\"Company: \", prod[6])\n",
    "        print(\"Rating(0-5) of Product: \", prod[7])\n",
    "        print (\"Amount to be paid:\" , int(prod[3]) * ui_qnan)"
   ]
  },
  {
   "cell_type": "markdown",
   "metadata": {},
   "source": [
    "#### Update data after purchasing"
   ]
  },
  {
   "cell_type": "code",
   "execution_count": 4,
   "metadata": {},
   "outputs": [],
   "source": [
    "new_record =[]\n",
    "\n",
    "for product in products:\n",
    "        prod=product.split(\",\")\n",
    "        if (prod[0] == ui_prod):\n",
    "            prod[2] = str(int(prod[2])-ui_qnan)\n",
    "        \n",
    "        new_record.append(prod[0] + \",\" + prod[1] + \",\" + prod[2] + \",\" + prod[3] + \",\" + prod[4] + \",\" + prod[5] + \",\" + prod[6] + \",\" + prod[7] +\"\\n\")\n",
    "new_record[-1]= new_record[-1][:-1]"
   ]
  },
  {
   "cell_type": "code",
   "execution_count": 5,
   "metadata": {},
   "outputs": [],
   "source": [
    "fd = open(\"recordss.txt\",'w')\n",
    "for i in new_record:\n",
    "        fd.write(i)\n",
    "fd.close()"
   ]
  },
  {
   "cell_type": "code",
   "execution_count": 6,
   "metadata": {},
   "outputs": [],
   "source": [
    "fd = open(\"recordss.txt\",\"r\")\n",
    "\n",
    "check_read = fd.read()\n",
    "fd.close()"
   ]
  },
  {
   "cell_type": "markdown",
   "metadata": {},
   "source": [
    "# Checking the System"
   ]
  },
  {
   "cell_type": "code",
   "execution_count": 7,
   "metadata": {
    "scrolled": false
   },
   "outputs": [
    {
     "data": {
      "text/plain": [
       "['1001,20W LED PRIDE PLUS COOL DAYLIGHT(020),150,180,1,Bliss,Havells,5',\n",
       " '1002,18W LED PRIDE PLUS NXT COOL DAYLIGHT(018),75,50,1,Bliss,Havells,5',\n",
       " '1003,MAXOLINE 36W T8FTL6500K[1.2m](0036),65,123,1,Bliss,Havells,5',\n",
       " '1004,20W LED EDGELIGHT SLIM NO DARK EDGES (020),655,321,1,Bliss,Havells,5',\n",
       " '1005,RAYLINE 6W LED (006),40,450,2,Bliss,Havells,5',\n",
       " '1006,LED PRIDE PLUS INVERTER BATTEN 10W (010),200,360,2,Bliss,Havells,4',\n",
       " '1007,0.5W LED ADORE (BALL LAMP),150,50,2,Bliss,Havells,4',\n",
       " '1008,TRIM LED PANEL ROUND 20W (020),23,26,3,Bliss,Havells,4',\n",
       " '1009,LED VR2 ADORE 5W B22CDL4 STARLAMP (005),133,70,3,Flair,Havells,4',\n",
       " '1010,UT LED 9W B22 CDL (009),125,45,3,Flair,Havells,5',\n",
       " '1011,LED LIGHT LUMINO DOB D/L (5W) [005],35,190,3,Flair,Havells,5',\n",
       " '1012,HAVELLS LED 9W NU-BULB+ (009),65,150,4,Flair,Havells,5',\n",
       " '1013,LED LAMPS NU-BULB+ 12W 865 B22 3STAR (012),35,180,4,Flair,Havells,5',\n",
       " '1014,ADORE LED 20W COOL DAYLIGHT (020),40,240,4,Bliss,Syska,5',\n",
       " '1015,TRIM LED PANEL SQUARE 10W 6500K (010),50,378,4,Bliss,Syska,3',\n",
       " '1016,TRIM LED PANEL SQUARE 5W 6500K (005),65,223,4,Bliss,Syska,3',\n",
       " '1017,TRIM LED PANEL ROUND 10W (010),70,65,5,Bliss,Syska,3',\n",
       " '1018,ADORE LED 3W DEEPSPOT NEE (LED SPOT LIGHT)[003],50,232,5,Bliss,Syska,3',\n",
       " '1019,LED 50W FLORID ULTRA B22 CDL BULB (050),40,323,5,Flair,Syska,3',\n",
       " '1020,TRIM 15W LED PANEL 6500K SQUARE (0150,30,262,5,Flair,Syska,3',\n",
       " '1021,LED 9W SENSOLITE BULB B22 CDL (009),25,665,6,Flair,Syska,4',\n",
       " '1022,ADORE LED 7W (R007) LED LAMP,70,55,6,Flair,Syska,4',\n",
       " '1023,JOY NEO LED 7W JB GREEN (007) LED DOWNLIGHT,50,200,6,Flair,Syska,4',\n",
       " '1024,JOY NEO LED SLIM  JB7W DUO 6K+3K (007),45,150,6,Flair,Syska,4',\n",
       " '1025,TRIM LED PANEL ROUND 5W (005),23,300,6,Flair,Bajaj,4',\n",
       " '1026,LED 40W FLORID ULTRA B22 CDL BULB (040),50,400,7,Flair,Bajaj,5',\n",
       " '1027,LED 30W FLORID ULTRA B22 CDL BULB (030),45,650,7,Flair,Bajaj,5',\n",
       " '1028,3W LED TRIM JB DOWNLIGHTER (003),65,500,7,Bliss,Bajaj,5',\n",
       " '1029,ADORE LED 9W LED LAMP (R009),220,70,7,Bliss,Bajaj,5']"
      ]
     },
     "execution_count": 7,
     "metadata": {},
     "output_type": "execute_result"
    }
   ],
   "source": [
    "check_read.split('\\n')"
   ]
  },
  {
   "cell_type": "code",
   "execution_count": 8,
   "metadata": {
    "scrolled": true
   },
   "outputs": [
    {
     "data": {
      "text/plain": [
       "'1010,UT LED 9W B22 CDL (009),125,45,3,Flair,Havells,5'"
      ]
     },
     "execution_count": 8,
     "metadata": {},
     "output_type": "execute_result"
    }
   ],
   "source": [
    "check_read.split('\\n')[9]"
   ]
  },
  {
   "cell_type": "markdown",
   "metadata": {},
   "source": [
    "# The End!"
   ]
  }
 ],
 "metadata": {
  "kernelspec": {
   "display_name": "Python 3",
   "language": "python",
   "name": "python3"
  },
  "language_info": {
   "codemirror_mode": {
    "name": "ipython",
    "version": 3
   },
   "file_extension": ".py",
   "mimetype": "text/x-python",
   "name": "python",
   "nbconvert_exporter": "python",
   "pygments_lexer": "ipython3",
   "version": "3.7.6"
  }
 },
 "nbformat": 4,
 "nbformat_minor": 5
}
